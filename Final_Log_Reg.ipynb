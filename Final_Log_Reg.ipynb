{
  "nbformat": 4,
  "nbformat_minor": 0,
  "metadata": {
    "colab": {
      "provenance": []
    },
    "kernelspec": {
      "name": "python3",
      "display_name": "Python 3"
    },
    "language_info": {
      "name": "python"
    }
  },
  "cells": [
    {
      "cell_type": "code",
      "execution_count": null,
      "metadata": {
        "colab": {
          "base_uri": "https://localhost:8080/"
        },
        "id": "pGtq8_YFhy8s",
        "outputId": "bed0b55d-5440-4bae-b793-db02bd527560"
      },
      "outputs": [
        {
          "output_type": "stream",
          "name": "stdout",
          "text": [
            "Mounted at /content/gdrive\n"
          ]
        }
      ],
      "source": [
        "from google.colab import drive\n",
        "drive.mount('/content/gdrive')"
      ]
    },
    {
      "cell_type": "code",
      "source": [
        "# Import des librairies utiles \n",
        "import os\n",
        "from PIL import Image\n",
        "import matplotlib.pyplot as plt\n",
        "import numpy as np\n",
        "import pandas as pd\n",
        "from sklearn.linear_model import LogisticRegression\n",
        "from sklearn.metrics import confusion_matrix, classification_report, roc_curve, roc_auc_score\n",
        "import seaborn as sns\n",
        "from datetime import datetime as dt\n",
        "import pickle\n"
      ],
      "metadata": {
        "id": "2iD0AAMzh2U9"
      },
      "execution_count": null,
      "outputs": []
    },
    {
      "cell_type": "code",
      "source": [
        "cat_list = os.listdir(\"/content/gdrive/MyDrive/Interface_E2/clean_dataset/train/cat\")\n",
        "dog_list = os.listdir(\"/content/gdrive/MyDrive/Interface_E2/clean_dataset/train/dog\")\n",
        "print(\"Le nombre d'images d'entrainement de chat est de : \" + str(len(cat_list)))\n",
        "print(\"Le nombre d'images d'entrainement de chien est de : \" + str(len(dog_list)))"
      ],
      "metadata": {
        "colab": {
          "base_uri": "https://localhost:8080/"
        },
        "id": "izuxAnAgiU_2",
        "outputId": "bfa3504c-a25b-4564-ea9b-4cef68376fd6"
      },
      "execution_count": null,
      "outputs": [
        {
          "output_type": "stream",
          "name": "stdout",
          "text": [
            "Le nombre d'images d'entrainement de chat est de : 9987\n",
            "Le nombre d'images d'entrainement de chien est de : 9985\n"
          ]
        }
      ]
    },
    {
      "cell_type": "code",
      "source": [
        "# En raison de limitations computationnelles nous ne prendrons que 5000 images par catégories pour l'entrainement \n",
        "cat_train = cat_list[:5000]\n",
        "dog_train = dog_list[:5000]\n",
        "print(\"Pour la catégorie chat on utilisera \" + str(len(cat_train)) + \" images.\")\n",
        "print(\"Pour la catégorie chien on utilisera \" + str(len(dog_train)) + \" images.\")"
      ],
      "metadata": {
        "colab": {
          "base_uri": "https://localhost:8080/"
        },
        "id": "vyfdZa1hiaFZ",
        "outputId": "3fcd9ece-861c-40d6-9e91-3a7421bcb635"
      },
      "execution_count": null,
      "outputs": [
        {
          "output_type": "stream",
          "name": "stdout",
          "text": [
            "Pour la catégorie chat on utilisera 5000 images.\n",
            "Pour la catégorie chien on utilisera 5000 images.\n"
          ]
        }
      ]
    },
    {
      "cell_type": "code",
      "source": [
        "# Actuellement nous avons deux liste séparées que nous devons réunir en une unique liste de données d'entrainement. \n",
        "# On utilise la méthode extend() qui concatènera les deux liste à la suite \n",
        "# On utilisera donc np.random.shuffle() pour randomiser le jeu de données d'entrainement. \n",
        "train_list = []\n",
        "train_list.extend(cat_train)\n",
        "train_list.extend(dog_train)\n",
        "np.random.shuffle(train_list)"
      ],
      "metadata": {
        "id": "LeBD6u-oiwC6"
      },
      "execution_count": null,
      "outputs": []
    },
    {
      "cell_type": "code",
      "source": [
        "# On vérifie la nature de train_list obtenue et on s'assure de la randomisation des données en visualisant les 10 premiers éléments de la liste\n",
        "train_list[:10]"
      ],
      "metadata": {
        "colab": {
          "base_uri": "https://localhost:8080/"
        },
        "id": "2Vu353Lri0mB",
        "outputId": "b9893dca-945b-407f-c31c-73a856582c0b"
      },
      "execution_count": null,
      "outputs": [
        {
          "output_type": "execute_result",
          "data": {
            "text/plain": [
              "['dog.2281.jpg',\n",
              " 'cat.2515.jpg',\n",
              " 'dog.10606.jpg',\n",
              " 'cat.5807.jpg',\n",
              " 'cat.3751.jpg',\n",
              " 'dog.11873.jpg',\n",
              " 'cat.11045.jpg',\n",
              " 'dog.10377.jpg',\n",
              " 'dog.3951.jpg',\n",
              " 'dog.8626.jpg']"
            ]
          },
          "metadata": {},
          "execution_count": 6
        }
      ]
    },
    {
      "cell_type": "code",
      "source": [
        "# On remarque que cette liste contient uniquement le nom du fichier. \n",
        "# Le modèle de régression logistique le n'accepte que des valeurs numériques et non pas des images au format .jpg. \n",
        "# Pour convertir les images au format numérique, il faut considérer 2 éléments qui sont la taille de l'image (hauteur, largeur) et l'encodage de la couleur au format RGB donc 3 canaux. \n",
        "# Or, on a observé durant la phase de nettoyage que les images n'avaient pas de taille standard. \n",
        "# Il est donc nécessaire d'implémenter une étape de redimensionnement des images de sortes qu'elles aient toute une taille standard. \n",
        "# Il est admis que plus une image a une taille réduite plus l'apprentissage est rapide. On décide donc de redimensionner les images au format 100x100x3 \n",
        "# On initialise donc un vecteur qui aura pour dimension (10000, 100*100*3). \n",
        "# En effet, les 10000 images d'entrainements seront assignées à ce vecteur une fois qu'elles auront été redimensionnées. \n",
        "X_train = np.zeros((10000, 100*100*3))"
      ],
      "metadata": {
        "id": "XS3_8NcTi3vy"
      },
      "execution_count": null,
      "outputs": []
    },
    {
      "cell_type": "code",
      "source": [
        "# On doit redimensionner l'ensemble des images d'entrainement à l'aide de la fonction resize() et crop()\n",
        "# La fonction redim prend en paramètre ke chemin de l'image et la taille et renvoie une image redimensionnée depuis le centre avec la taille spécifiée\n",
        "def redim(image_path, size): \n",
        "  img = Image.open(image_path)\n",
        "  img = img.resize((size+1, size+1))\n",
        "  x_center = img.width/2\n",
        "  y_center = img.height/2\n",
        "  size = size/2\n",
        "  redim_img = img.crop((x_center-size, y_center-size, x_center+size, y_center+size))\n",
        "  return redim_img "
      ],
      "metadata": {
        "id": "d4YJo7I-i8aV"
      },
      "execution_count": null,
      "outputs": []
    },
    {
      "cell_type": "code",
      "source": [
        "# On applique la fonction redim() à l'ensemble des images dans train_list\n",
        "# Une fois redimensionnées, on les transforme en vecteur grâce à la fonction np.array()\n",
        "# Puis on remplace le vecteur vide de l'image dans X_train par le vecteur de l'image ainsi prétraitée. \n",
        "for i, image_name in enumerate(train_list): \n",
        "  if image_name.split(\".\")[0] == \"dog\":\n",
        "    path = \"/content/gdrive/MyDrive/Interface_E2/clean_dataset/train/dog\"\n",
        "  else: \n",
        "    path = \"/content/gdrive/MyDrive/Interface_E2/clean_dataset/train/cat\"\n",
        "  image_path = f'{path}/{image_name}'\n",
        "  resized_img = redim(image_path, 100)\n",
        "  resized_array_img = np.array(resized_img).reshape(-1)\n",
        "  X_train[i] = resized_array_img"
      ],
      "metadata": {
        "id": "Z1lwCsQK_bq9"
      },
      "execution_count": null,
      "outputs": []
    },
    {
      "cell_type": "code",
      "source": [
        "# On vérifie les dimensions du vecteur qui devraient être de 10 000 par 30 000\n",
        "X_train.shape"
      ],
      "metadata": {
        "colab": {
          "base_uri": "https://localhost:8080/"
        },
        "id": "gHiPd9IujJDE",
        "outputId": "47001f5b-55b6-4015-b974-d48c41376396"
      },
      "execution_count": null,
      "outputs": [
        {
          "output_type": "execute_result",
          "data": {
            "text/plain": [
              "(10000, 30000)"
            ]
          },
          "metadata": {},
          "execution_count": 10
        }
      ]
    },
    {
      "cell_type": "code",
      "source": [
        "# On vérifie que les vecteurs d'images ont bien été remplacé dans le vecteur vide\n",
        "# On observe les valeurs de X_train[0]\n",
        "X_train[0]"
      ],
      "metadata": {
        "colab": {
          "base_uri": "https://localhost:8080/"
        },
        "id": "OJ5tTXf2ky3i",
        "outputId": "9c4af380-d9ac-4a79-81eb-01888e23a280"
      },
      "execution_count": null,
      "outputs": [
        {
          "output_type": "execute_result",
          "data": {
            "text/plain": [
              "array([165., 153., 137., ..., 133., 119.,  88.])"
            ]
          },
          "metadata": {},
          "execution_count": 11
        }
      ]
    },
    {
      "cell_type": "code",
      "source": [
        "# On normalize les images. Cette étape consiste à diviser par 255 l'ensemble du vecteur. \n",
        "# Ainsi, on on obtient des vecteurs avec des valeurs de pixels par image comprise entre 0 et 255. \n",
        "# Cette étape permet notamment de réduire la durée d'apprentissage tout en maintenant le rapport entre les différentes valeurs de pixels\n",
        "X_train = X_train/255"
      ],
      "metadata": {
        "id": "sQbLn4oxlEUR"
      },
      "execution_count": null,
      "outputs": []
    },
    {
      "cell_type": "code",
      "source": [
        "# Nos données d'entrainement sont maintenant prête. \n",
        "# Cependant, nous sommes dans un cas d'apprentissage supervisé, il nous faut donc récolter les labels de chaque image présente dans X_train\n",
        "# Pour cela on doit passer d'une liste de nom de fichier à une liste de label. \n",
        "# Nos images contiennent dans leur nom de fichier le label. \n",
        "# On utilise donc la méthode split() et la méthode de list comprehension en Python \n",
        "# On rappelle que la catégorie chat = 0 et la catégorie chien = 1 \n",
        "Y_train = np.array([0 if name.split(\".\")[0]==\"cat\" else 1 for name in train_list])"
      ],
      "metadata": {
        "id": "B3TFVlq9lqyo"
      },
      "execution_count": null,
      "outputs": []
    },
    {
      "cell_type": "code",
      "source": [
        "# On vérifie que les labels obtenu correspondent bien aux images. \n",
        "# On visualise les 10 premiers labels de Y_train et vérifie leur bonne correspondance avec les 10 premières images de X_train. \n",
        "Y_train[:10]"
      ],
      "metadata": {
        "colab": {
          "base_uri": "https://localhost:8080/"
        },
        "id": "5FcLeKermW2E",
        "outputId": "00aa2c1d-03b4-4c34-b9fb-59ea0a9e1119"
      },
      "execution_count": null,
      "outputs": [
        {
          "output_type": "execute_result",
          "data": {
            "text/plain": [
              "array([1, 0, 1, 0, 0, 1, 0, 1, 1, 1])"
            ]
          },
          "metadata": {},
          "execution_count": 14
        }
      ]
    },
    {
      "cell_type": "code",
      "source": [
        "# On vérifie que Y_train contient bien autant de label que nous avons d'images d'entrainement soit : 10 000\n",
        "Y_train.shape"
      ],
      "metadata": {
        "colab": {
          "base_uri": "https://localhost:8080/"
        },
        "id": "sFzgc4VammfH",
        "outputId": "20bcd09d-6ecc-4705-f6a4-520eef194e8d"
      },
      "execution_count": null,
      "outputs": [
        {
          "output_type": "execute_result",
          "data": {
            "text/plain": [
              "(10000,)"
            ]
          },
          "metadata": {},
          "execution_count": 15
        }
      ]
    },
    {
      "cell_type": "code",
      "source": [
        "# À présent nos images d'entrainement ont été converties en vecteur de pixels, les valeurs des pixels ont été normalisées\n",
        "# et les labels ont été récupérés : notre jeu d'entrainement est prêt pour alimenter le modèle\n",
        "model = LogisticRegression(max_iter=1000, solver = 'liblinear', penalty='l2', verbose=1)\n"
      ],
      "metadata": {
        "id": "2T6w1LiEm1S_"
      },
      "execution_count": null,
      "outputs": []
    },
    {
      "cell_type": "code",
      "source": [
        "# On peut mettre un timer pour avoir une estimation du temps de l'apprentissage \n",
        "start = dt.now()\n",
        "model.fit(X_train, Y_train)\n",
        "running_secs = (dt.now()-start).seconds"
      ],
      "metadata": {
        "colab": {
          "base_uri": "https://localhost:8080/"
        },
        "id": "lrC7Wdq67XqN",
        "outputId": "c28f0f44-547c-443e-9669-afcc8898f9ff"
      },
      "execution_count": null,
      "outputs": [
        {
          "output_type": "stream",
          "name": "stdout",
          "text": [
            "[LibLinear]"
          ]
        }
      ]
    },
    {
      "cell_type": "code",
      "source": [
        "# On sauvegarde le modèle à l'aide de pickle \n",
        "filename = \"Log_Reg_10000.sav\"\n",
        "pickle.dump(model, open(filename, 'wb'))"
      ],
      "metadata": {
        "id": "qPAomDf0AU8N"
      },
      "execution_count": null,
      "outputs": []
    },
    {
      "cell_type": "code",
      "source": [
        "# On évalue les performances du modèle sur le jeu de données d'entrainement \n",
        "train_pred = model.predict(X_train)\n",
        "cm = confusion_matrix(train_pred, Y_train)\n",
        "cm"
      ],
      "metadata": {
        "colab": {
          "base_uri": "https://localhost:8080/"
        },
        "id": "drHJIy1j7zZl",
        "outputId": "dddbac08-95d6-4b78-c1be-8fd46889d1e8"
      },
      "execution_count": null,
      "outputs": [
        {
          "output_type": "execute_result",
          "data": {
            "text/plain": [
              "array([[4991,    4],\n",
              "       [   9, 4996]])"
            ]
          },
          "metadata": {},
          "execution_count": 21
        }
      ]
    },
    {
      "cell_type": "code",
      "source": [
        "# On plot la matrice de confusion \n",
        "sns.heatmap(cm, annot=True)"
      ],
      "metadata": {
        "colab": {
          "base_uri": "https://localhost:8080/",
          "height": 282
        },
        "id": "Dv3pfmkSChrR",
        "outputId": "97902b78-3712-4ea5-f90b-52127d70376d"
      },
      "execution_count": null,
      "outputs": [
        {
          "output_type": "execute_result",
          "data": {
            "text/plain": [
              "<matplotlib.axes._subplots.AxesSubplot at 0x7f3ee78fc9d0>"
            ]
          },
          "metadata": {},
          "execution_count": 22
        },
        {
          "output_type": "display_data",
          "data": {
            "text/plain": [
              "<Figure size 432x288 with 2 Axes>"
            ],
            "image/png": "[encoded data removed]"
          },
          "metadata": {
            "needs_background": "light"
          }
        }
      ]
    },
    {
      "cell_type": "code",
      "source": [
        "# On doit maintenant évaluer le modèle sur le set de validation. \n",
        "# Etant donné qu'on a 10 000 images d'entrainement, on validera sur un échantillon de 2000 images soit 20%\n",
        "# On aura donc 1000 images de chat et 1000 images de chien à classifier\n",
        "val_list_dog = os.listdir(\"/content/gdrive/MyDrive/Interface_E2/clean_dataset/validation/dog\")\n",
        "val_list_cat = os.listdir(\"/content/gdrive/MyDrive/Interface_E2/clean_dataset/validation/cat\")\n",
        "print(\"Le nombre d'images de validation de chat est de : \" + str(len(val_list_cat)))\n",
        "print(\"Le nombre d'images de validation de chien est de : \" + str(len(val_list_dog)))"
      ],
      "metadata": {
        "colab": {
          "base_uri": "https://localhost:8080/"
        },
        "id": "vjUxJ3l6CuoH",
        "outputId": "40d6b5b4-62d0-45c3-a316-de72bec81663"
      },
      "execution_count": null,
      "outputs": [
        {
          "output_type": "stream",
          "name": "stdout",
          "text": [
            "Le nombre d'images de validation de chat est de : 1248\n",
            "Le nombre d'images de validation de chien est de : 1248\n"
          ]
        }
      ]
    },
    {
      "cell_type": "code",
      "source": [
        "# On ne sélectionne que 1000 images dans chaque catégorie puis on créer une nouvelle liste comme précédemment \n",
        "val_list_dog = val_list_dog[:1000]\n",
        "val_list_cat = val_list_cat[:1000]\n",
        "val_list = []\n",
        "val_list.extend(val_list_dog)\n",
        "val_list.extend(val_list_cat)"
      ],
      "metadata": {
        "id": "q59c7p25D5nr"
      },
      "execution_count": null,
      "outputs": []
    },
    {
      "cell_type": "code",
      "source": [
        "# On vérifie que val_list contiennent bien 2000 images \n",
        "len(val_list)"
      ],
      "metadata": {
        "colab": {
          "base_uri": "https://localhost:8080/"
        },
        "id": "y8sWhjetEnQO",
        "outputId": "22bd093f-eb65-4866-8b6b-54132db436b9"
      },
      "execution_count": null,
      "outputs": [
        {
          "output_type": "execute_result",
          "data": {
            "text/plain": [
              "2000"
            ]
          },
          "metadata": {},
          "execution_count": 26
        }
      ]
    },
    {
      "cell_type": "code",
      "source": [
        "# On recréer la matrice des images avec les données de validation \n",
        "X_val = np.zeros((2000, 100*100*3))"
      ],
      "metadata": {
        "id": "74W-ZntMEtiw"
      },
      "execution_count": null,
      "outputs": []
    },
    {
      "cell_type": "code",
      "source": [
        "for i, image_name in enumerate(val_list):\n",
        "    if image_name.split(\".\")[0] == \"dog\":\n",
        "        path =  \"/content/gdrive/MyDrive/Interface_E2/clean_dataset/validation/dog\"\n",
        "    else:\n",
        "        path =  \"/content/gdrive/MyDrive/Interface_E2/clean_dataset/validation/cat\"\n",
        "    image_path = f'{path}/{image_name}'\n",
        "    crp_img = redim(image_path,100)\n",
        "    crp_arr = np.array(crp_img).reshape(-1)\n",
        "    X_val[i] = crp_arr"
      ],
      "metadata": {
        "id": "4AwFdmpmE8bZ"
      },
      "execution_count": null,
      "outputs": []
    },
    {
      "cell_type": "code",
      "source": [
        "# On normalize les valeurs des pixels \n",
        "X_val = X_val/255"
      ],
      "metadata": {
        "id": "6veNHciXFawk"
      },
      "execution_count": null,
      "outputs": []
    },
    {
      "cell_type": "code",
      "source": [
        "# On récupère les lables des images de validation \n",
        "val_labels = np.array([0 if name.split(\".\")[0]==\"cat\" else 1 for name in val_list])"
      ],
      "metadata": {
        "id": "fUJQ68UHFfex"
      },
      "execution_count": null,
      "outputs": []
    },
    {
      "cell_type": "code",
      "source": [
        "# On lance les prédiction sur le jeu de validation et on calcule la matrice de confusion\n",
        "val_pred = model.predict(X_val)\n",
        "cm_val = confusion_matrix(val_pred, val_labels)\n",
        "cm_val "
      ],
      "metadata": {
        "colab": {
          "base_uri": "https://localhost:8080/"
        },
        "id": "JFPsWt1RFtTV",
        "outputId": "c10d97ce-8bd5-44cb-a7e0-471dd34171dc"
      },
      "execution_count": null,
      "outputs": [
        {
          "output_type": "execute_result",
          "data": {
            "text/plain": [
              "array([[602, 506],\n",
              "       [398, 494]])"
            ]
          },
          "metadata": {},
          "execution_count": 31
        }
      ]
    },
    {
      "cell_type": "code",
      "source": [
        "# On plot la matrice de confusion sur les données de validation \n",
        "sns.heatmap(cm_val, annot=True)"
      ],
      "metadata": {
        "colab": {
          "base_uri": "https://localhost:8080/",
          "height": 284
        },
        "id": "5mdf7QWMGEuo",
        "outputId": "ce1a08ff-3118-4fa1-f0f0-d2d70daaaf0d"
      },
      "execution_count": null,
      "outputs": [
        {
          "output_type": "execute_result",
          "data": {
            "text/plain": [
              "<matplotlib.axes._subplots.AxesSubplot at 0x7f3ee7995490>"
            ]
          },
          "metadata": {},
          "execution_count": 32
        },
        {
          "output_type": "display_data",
          "data": {
            "text/plain": [
              "<Figure size 432x288 with 2 Axes>"
            ],
            "image/png": "[encoded data removed]"
          },
          "metadata": {
            "needs_background": "light"
          }
        }
      ]
    },
    {
      "cell_type": "code",
      "source": [
        "# En complément de la matrice de confusion on peut analyser la précision, le recall et le f1-score. \n",
        "# L'ensemble de ces métriques peuvent être obtenues avec la méthode classification_report()\n",
        "# On enregistre le rapport dans un dataframe qu'on peut exposert au format csv \n",
        "report = classification_report(val_labels, val_pred, output_dict=True)"
      ],
      "metadata": {
        "id": "Mniu5PRTG5sE"
      },
      "execution_count": null,
      "outputs": []
    },
    {
      "cell_type": "code",
      "source": [
        "df = pd.DataFrame(report).transpose()"
      ],
      "metadata": {
        "id": "v4PfmybVKI7H"
      },
      "execution_count": null,
      "outputs": []
    },
    {
      "cell_type": "code",
      "source": [
        "df"
      ],
      "metadata": {
        "colab": {
          "base_uri": "https://localhost:8080/",
          "height": 206
        },
        "id": "pUxSs5_VKVqp",
        "outputId": "0e24fbcb-a609-4872-de32-abfbc62096c7"
      },
      "execution_count": null,
      "outputs": [
        {
          "output_type": "execute_result",
          "data": {
            "text/plain": [
              "              precision  recall  f1-score   support\n",
              "0              0.543321   0.602  0.571157  1000.000\n",
              "1              0.553812   0.494  0.522199  1000.000\n",
              "accuracy       0.548000   0.548  0.548000     0.548\n",
              "macro avg      0.548566   0.548  0.546678  2000.000\n",
              "weighted avg   0.548566   0.548  0.546678  2000.000"
            ],
            "text/html": [
              "\n",
              "  <div id=\"df-2ad310b4-f9c9-45b1-b78f-a6aa5c65282a\">\n",
              "    <div class=\"colab-df-container\">\n",
              "      <div>\n",
              "<style scoped>\n",
              "    .dataframe tbody tr th:only-of-type {\n",
              "        vertical-align: middle;\n",
              "    }\n",
              "\n",
              "    .dataframe tbody tr th {\n",
              "        vertical-align: top;\n",
              "    }\n",
              "\n",
              "    .dataframe thead th {\n",
              "        text-align: right;\n",
              "    }\n",
              "</style>\n",
              "<table border=\"1\" class=\"dataframe\">\n",
              "  <thead>\n",
              "    <tr style=\"text-align: right;\">\n",
              "      <th></th>\n",
              "      <th>precision</th>\n",
              "      <th>recall</th>\n",
              "      <th>f1-score</th>\n",
              "      <th>support</th>\n",
              "    </tr>\n",
              "  </thead>\n",
              "  <tbody>\n",
              "    <tr>\n",
              "      <th>0</th>\n",
              "      <td>0.543321</td>\n",
              "      <td>0.602</td>\n",
              "      <td>0.571157</td>\n",
              "      <td>1000.000</td>\n",
              "    </tr>\n",
              "    <tr>\n",
              "      <th>1</th>\n",
              "      <td>0.553812</td>\n",
              "      <td>0.494</td>\n",
              "      <td>0.522199</td>\n",
              "      <td>1000.000</td>\n",
              "    </tr>\n",
              "    <tr>\n",
              "      <th>accuracy</th>\n",
              "      <td>0.548000</td>\n",
              "      <td>0.548</td>\n",
              "      <td>0.548000</td>\n",
              "      <td>0.548</td>\n",
              "    </tr>\n",
              "    <tr>\n",
              "      <th>macro avg</th>\n",
              "      <td>0.548566</td>\n",
              "      <td>0.548</td>\n",
              "      <td>0.546678</td>\n",
              "      <td>2000.000</td>\n",
              "    </tr>\n",
              "    <tr>\n",
              "      <th>weighted avg</th>\n",
              "      <td>0.548566</td>\n",
              "      <td>0.548</td>\n",
              "      <td>0.546678</td>\n",
              "      <td>2000.000</td>\n",
              "    </tr>\n",
              "  </tbody>\n",
              "</table>\n",
              "</div>\n",
              "      <button class=\"colab-df-convert\" onclick=\"convertToInteractive('df-2ad310b4-f9c9-45b1-b78f-a6aa5c65282a')\"\n",
              "              title=\"Convert this dataframe to an interactive table.\"\n",
              "              style=\"display:none;\">\n",
              "        \n",
              "  <svg xmlns=\"http://www.w3.org/2000/svg\" height=\"24px\"viewBox=\"0 0 24 24\"\n",
              "       width=\"24px\">\n",
              "    <path d=\"M0 0h24v24H0V0z\" fill=\"none\"/>\n",
              "    <path d=\"M18.56 5.44l.94 2.06.94-2.06 2.06-.94-2.06-.94-.94-2.06-.94 2.06-2.06.94zm-11 1L8.5 8.5l.94-2.06 2.06-.94-2.06-.94L8.5 2.5l-.94 2.06-2.06.94zm10 10l.94 2.06.94-2.06 2.06-.94-2.06-.94-.94-2.06-.94 2.06-2.06.94z\"/><path d=\"M17.41 7.96l-1.37-1.37c-.4-.4-.92-.59-1.43-.59-.52 0-1.04.2-1.43.59L10.3 9.45l-7.72 7.72c-.78.78-.78 2.05 0 2.83L4 21.41c.39.39.9.59 1.41.59.51 0 1.02-.2 1.41-.59l7.78-7.78 2.81-2.81c.8-.78.8-2.07 0-2.86zM5.41 20L4 18.59l7.72-7.72 1.47 1.35L5.41 20z\"/>\n",
              "  </svg>\n",
              "      </button>\n",
              "      \n",
              "  <style>\n",
              "    .colab-df-container {\n",
              "      display:flex;\n",
              "      flex-wrap:wrap;\n",
              "      gap: 12px;\n",
              "    }\n",
              "\n",
              "    .colab-df-convert {\n",
              "      background-color: #E8F0FE;\n",
              "      border: none;\n",
              "      border-radius: 50%;\n",
              "      cursor: pointer;\n",
              "      display: none;\n",
              "      fill: #1967D2;\n",
              "      height: 32px;\n",
              "      padding: 0 0 0 0;\n",
              "      width: 32px;\n",
              "    }\n",
              "\n",
              "    .colab-df-convert:hover {\n",
              "      background-color: #E2EBFA;\n",
              "      box-shadow: 0px 1px 2px rgba(60, 64, 67, 0.3), 0px 1px 3px 1px rgba(60, 64, 67, 0.15);\n",
              "      fill: #174EA6;\n",
              "    }\n",
              "\n",
              "    [theme=dark] .colab-df-convert {\n",
              "      background-color: #3B4455;\n",
              "      fill: #D2E3FC;\n",
              "    }\n",
              "\n",
              "    [theme=dark] .colab-df-convert:hover {\n",
              "      background-color: #434B5C;\n",
              "      box-shadow: 0px 1px 3px 1px rgba(0, 0, 0, 0.15);\n",
              "      filter: drop-shadow(0px 1px 2px rgba(0, 0, 0, 0.3));\n",
              "      fill: #FFFFFF;\n",
              "    }\n",
              "  </style>\n",
              "\n",
              "      <script>\n",
              "        const buttonEl =\n",
              "          document.querySelector('#df-2ad310b4-f9c9-45b1-b78f-a6aa5c65282a button.colab-df-convert');\n",
              "        buttonEl.style.display =\n",
              "          google.colab.kernel.accessAllowed ? 'block' : 'none';\n",
              "\n",
              "        async function convertToInteractive(key) {\n",
              "          const element = document.querySelector('#df-2ad310b4-f9c9-45b1-b78f-a6aa5c65282a');\n",
              "          const dataTable =\n",
              "            await google.colab.kernel.invokeFunction('convertToInteractive',\n",
              "                                                     [key], {});\n",
              "          if (!dataTable) return;\n",
              "\n",
              "          const docLinkHtml = 'Like what you see? Visit the ' +\n",
              "            '<a target=\"_blank\" href=https://colab.research.google.com/notebooks/data_table.ipynb>data table notebook</a>'\n",
              "            + ' to learn more about interactive tables.';\n",
              "          element.innerHTML = '';\n",
              "          dataTable['output_type'] = 'display_data';\n",
              "          await google.colab.output.renderOutput(dataTable, element);\n",
              "          const docLink = document.createElement('div');\n",
              "          docLink.innerHTML = docLinkHtml;\n",
              "          element.appendChild(docLink);\n",
              "        }\n",
              "      </script>\n",
              "    </div>\n",
              "  </div>\n",
              "  "
            ]
          },
          "metadata": {},
          "execution_count": 37
        }
      ]
    },
    {
      "cell_type": "code",
      "source": [
        "df.to_csv('classification_report.csv')"
      ],
      "metadata": {
        "id": "zjPY1R_TKXC0"
      },
      "execution_count": null,
      "outputs": []
    },
    {
      "cell_type": "code",
      "source": [
        "# Interprétation : \n",
        "# Précision : \n",
        "# Parmi les 1000 chats et 1000 chiens que le modèle a prédit seulement 54.3% étaient vraiment des chats et 55.4% étaient vraiment des chien. \n",
        "# Recall : Parmi les 1000 images qui étaient vraiment des chats, le modèle a prédit correctement à 60.2% les chats \n",
        "# Parmi les 1000 images qui étaient vraiment des chiens, le modèle a prédit correctement à 49.4% les chiens.\n",
        "# F1-Score : Cette valeur est assez éloignée de 1 : Le modèle a donc réaliser une prédiction pauvre. "
      ],
      "metadata": {
        "id": "51AWvXm-Kv7P"
      },
      "execution_count": null,
      "outputs": []
    },
    {
      "cell_type": "code",
      "source": [
        "# Un autre indicateur de performance qu'on peut étudier est la courbe ROC\n",
        "no_learn = [0 for _ in range(len(val_labels))]"
      ],
      "metadata": {
        "id": "w8D3lxlqMyp9"
      },
      "execution_count": null,
      "outputs": []
    },
    {
      "cell_type": "code",
      "source": [
        " # On prédit la probabilité des images de validation \n",
        "learn_probs = model.predict_proba(X_val)\n",
        "\n",
        "# On ne garde que les probabilité de la classe 1 \n",
        "learn_probs = learn_probs[:, 1]\n",
        "\n",
        "# On calcule les score \n",
        "nl_auc = roc_auc_score(val_labels, no_learn)\n",
        "lr_auc = roc_auc_score(val_labels, learn_probs)\n",
        "\n",
        "# Résume les score \n",
        "print(\"No Skill: ROC AUC=%.3f\" % (nl_auc))\n",
        "print(\"Logistic: ROC AUC=%.3f\" % (lr_auc))\n",
        "\n",
        "# Calcule les courbes ROC \n",
        "ns_fpr, ns_tpr, _ = roc_curve(val_labels, no_learn)\n",
        "lr_fpr, lr_tpr, _ = roc_curve(val_labels, learn_probs)\n",
        "\n",
        "plt.plot(ns_fpr, ns_tpr, linestyle='--', label=\"No Skill\")\n",
        "plt.plot(lr_fpr, lr_tpr, marker='.', label='Logistic')\n",
        "plt.xlabel('Taux de faux positifs')\n",
        "plt.ylabel('Taux de vrai positifs')\n",
        "plt.legend()\n",
        "plotfile = 'Courbe_ROC_Reg_Log'\n",
        "plt.savefig(plotfile + '_plot.png')\n",
        "plt.close()"
      ],
      "metadata": {
        "id": "iKizlMcQOCdX",
        "colab": {
          "base_uri": "https://localhost:8080/"
        },
        "outputId": "02679df1-6c94-4577-9a84-1cb37555af6f"
      },
      "execution_count": null,
      "outputs": [
        {
          "output_type": "stream",
          "name": "stdout",
          "text": [
            "No Skill: ROC AUC=0.500\n",
            "Logistic: ROC AUC=0.569\n"
          ]
        }
      ]
    },
    {
      "cell_type": "code",
      "source": [
        "# On peut essayer d'améliorer ce modèle soit en testant la cross validation \n",
        "# Soit en faisant de la data augmentation. \n"
      ],
      "metadata": {
        "id": "vjBZBCQzMaOp"
      },
      "execution_count": null,
      "outputs": []
    }
  ]
}