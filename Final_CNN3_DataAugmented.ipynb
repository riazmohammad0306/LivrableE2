{
 "cells": [
  {
   "cell_type": "code",
   "execution_count": 1,
   "id": "5165547c",
   "metadata": {},
   "outputs": [
    {
     "name": "stdout",
     "output_type": "stream",
     "text": [
      "Nous avons 9987 images d'entrainement de chats.\n",
      "Nous avons 1248 images de validation de chats.\n",
      "Nous avons 1248 images de test de chats.\n"
     ]
    }
   ],
   "source": [
    "# Avant de lancer la construction du modèle CNN basique on étudie les données disponibles \n",
    "import os \n",
    "X_train_cat = os.listdir('clean_dataset/train/cat')\n",
    "X_val_cat = os.listdir('clean_dataset/validation/cat')\n",
    "X_test_cat = os.listdir('clean_dataset/test/cat')\n",
    "print(\"Nous avons \" + str(len(X_train_cat)) + \" images d'entrainement de chats.\")\n",
    "print(\"Nous avons \" + str(len(X_val_cat)) + \" images de validation de chats.\")\n",
    "print(\"Nous avons \" + str(len(X_test_cat)) + \" images de test de chats.\")"
   ]
  },
  {
   "cell_type": "code",
   "execution_count": 2,
   "id": "b03c52c4",
   "metadata": {},
   "outputs": [
    {
     "name": "stdout",
     "output_type": "stream",
     "text": [
      "Nous avons 9985 images d'entrainement de chiens.\n",
      "Nous avons 1248 images de validation de chiens.\n",
      "Nous avons 1248 images de test de chiens.\n"
     ]
    }
   ],
   "source": [
    "X_train_dog = os.listdir('clean_dataset/train/dog')\n",
    "X_val_dog = os.listdir('clean_dataset/validation/dog')\n",
    "X_test_dog = os.listdir('clean_dataset/test/dog')\n",
    "print(\"Nous avons \" + str(len(X_train_dog)) + \" images d'entrainement de chiens.\")\n",
    "print(\"Nous avons \" + str(len(X_val_dog)) + \" images de validation de chiens.\")\n",
    "print(\"Nous avons \" + str(len(X_test_dog)) + \" images de test de chiens.\")"
   ]
  },
  {
   "cell_type": "code",
   "execution_count": 4,
   "id": "4e9414d8",
   "metadata": {},
   "outputs": [],
   "source": [
    "# Import des librairies utiles \n",
    "import sklearn\n",
    "from tensorflow import keras\n",
    "from keras.preprocessing.image import ImageDataGenerator\n",
    "from matplotlib import pyplot as plt\n",
    "from keras.models import Sequential,Model\n",
    "from keras.layers import Conv2D, MaxPooling2D, Input, Flatten, Dense, Dropout\n",
    "from keras.utils import to_categorical\n",
    "from keras.optimizers import SGD\n",
    "from sklearn.metrics import confusion_matrix, classification_report, roc_curve, roc_auc_score\n",
    "import seaborn as sns\n",
    "import numpy as np\n",
    "import pandas as pd\n",
    "import pickle"
   ]
  },
  {
   "cell_type": "code",
   "execution_count": 6,
   "id": "df53bd71",
   "metadata": {},
   "outputs": [],
   "source": [
    "# De même que pour la régression logistique, une étape de preprocessing est nécessaire. \n",
    "# Elle permettra de standardiser les dimensions des images et de normaliser les valeurs des pixels. \n",
    "# En accord avec l'architecture VGG16, nous utiliserons des images de 224*224*3. \n",
    "# Pour cela on instancie la méthode ImageDataGenerator de Keras.preprocessing qui permet de normaliser les valeurs de pixels. \n",
    "# On utilise cette méthode car elle permettra dans un autre modèle de réaliser de la data augmentation online.\n",
    "preproc_train = ImageDataGenerator(rescale=1.0/255.0,\n",
    "                                  width_shift_range=0.1,\n",
    "                                  height_shift_range=0.1,\n",
    "                                  horizontal_flip=True)\n",
    "\n",
    "preproc_test = ImageDataGenerator(rescale=1.0/255.0)"
   ]
  },
  {
   "cell_type": "code",
   "execution_count": 7,
   "id": "4fd48d29",
   "metadata": {},
   "outputs": [
    {
     "name": "stdout",
     "output_type": "stream",
     "text": [
      "Found 19972 images belonging to 2 classes.\n",
      "Found 2496 images belonging to 2 classes.\n",
      "Found 2496 images belonging to 2 classes.\n"
     ]
    }
   ],
   "source": [
    "# A l'aide de la fonction flow_from_directory() qui nécessite que la structure des dossiers soit celle présentée dans le rapport, \n",
    "# Nous allons pouvoir lire les images directement depuis leurs dossiers respectifs.\n",
    "# Cette méthode permet de fixer la taille des images avec l'argument target_size\n",
    "# Elle créera des batch d'images. \n",
    "# Un batch est caractérisé par sa taille et définit le nombre d'images à traiter par le modèle \n",
    "# avant de mettre à jour les poids du modèle. Une valeur commune de batch est 32 ou 64.\n",
    "# L'avantage d'utiliser flow_from_directory est qu'il infère les labels en se basant sur le nom du dossier.\n",
    "train_set = preproc_train.flow_from_directory('clean_dataset/train/',\n",
    "                                        class_mode = 'binary',\n",
    "                                        batch_size = 64,\n",
    "                                        target_size = (224, 224))\n",
    "\n",
    "validation_set = preproc_test.flow_from_directory('clean_dataset/validation',\n",
    "                                             class_mode = 'binary',\n",
    "                                             batch_size = 64,\n",
    "                                             target_size = (224, 224))\n",
    "\n",
    "test_set = preproc_test.flow_from_directory('clean_dataset/test',\n",
    "                                       class_mode = 'binary', \n",
    "                                       batch_size = 64, \n",
    "                                       target_size = (224, 224))"
   ]
  },
  {
   "cell_type": "code",
   "execution_count": 8,
   "id": "9909e61d",
   "metadata": {},
   "outputs": [],
   "source": [
    "# Une fois les données préparer on peut définir le modèle basique\n",
    "\n",
    "\n",
    "def basic_cnnx3(): \n",
    "    model = Sequential()\n",
    "    model.add(Conv2D(32, (3, 3), activation='relu', kernel_initializer='he_uniform', padding='same', input_shape=(224, 224, 3)))\n",
    "    model.add(MaxPooling2D((2, 2)))\n",
    "    model.add(Conv2D(64, (3, 3), activation='relu', kernel_initializer='he_uniform', padding='same'))\n",
    "    model.add(MaxPooling2D((2, 2)))\n",
    "    model.add(Conv2D(128, (3, 3), activation='relu', kernel_initializer='he_uniform', padding='same'))\n",
    "    model.add(MaxPooling2D((2, 2)))\n",
    "    model.add(Flatten())\n",
    "    model.add(Dense(128, activation='relu', kernel_initializer='he_uniform'))\n",
    "    model.add(Dense(1, activation='sigmoid'))\n",
    "    \n",
    "    # On doit compiler le modèle en spécifiant le solver = algorithme utilisé pour minimiser l'erreur de prédiction\n",
    "    # Les valeurs de learning rate et du momentum sont choisies en accord avec les hyperparamètre de VGG16 \n",
    "    solver = SGD(learning_rate=0.001, momentum=0.9)\n",
    "    model.compile(optimizer=solver, loss='binary_crossentropy', metrics=['accuracy'])\n",
    "    return model"
   ]
  },
  {
   "cell_type": "code",
   "execution_count": 9,
   "id": "18722d48",
   "metadata": {},
   "outputs": [],
   "source": [
    "# On définit la fonction plot_perf() qui enregistrera deux graphiques d'accuracy et de loss pour le\n",
    "# set d'entrainement et de validation.\n",
    "# On précise que history.history contient les différentes métriques de performances réalisées. \n",
    "# Il s'agit de la loss et de l'accuracy\n",
    "\n",
    "def plot_perf(history): \n",
    "    \n",
    "    acc = history.history['accuracy']\n",
    "    val_acc = history.history['val_accuracy']\n",
    "    loss = history.history['loss']\n",
    "    val_loss = history.history['val_loss']\n",
    "    \n",
    "    # On regarde l'évolution en fonction des epochs \n",
    "    epochs = range(1, len(acc)+1)\n",
    "    \n",
    "    # On plot l'accuracy de l'entrainement et de la validation par epoch\n",
    "    plt.plot(epochs, acc, 'bo', label='Train_Acc')\n",
    "    plt.plot(epochs, val_acc, 'b', label=\"Val_Acc\")\n",
    "    plt.title('Accuracy sur Train et Validation')\n",
    "    plt.ylabel('Accuracy')\n",
    "    plt.xlabel('Epoch')\n",
    "    plt.legend()\n",
    "    \n",
    "    filename1 = \"Train_Val_Acc_CNN3DA\"\n",
    "    plt.savefig(filename1 + '_plot.png')\n",
    "    plt.close()\n",
    "    \n",
    "    plt.figure()\n",
    "    plt.plot(epochs, loss, 'bo', label='Train_Loss')\n",
    "    plt.plot(epochs, val_loss, 'b', label=\"Val_Loss\" )\n",
    "    plt.title('Loss sur Train et Validation')\n",
    "    plt.ylabel('Loss')\n",
    "    plt.xlabel('Epoch')\n",
    "    plt.legend()\n",
    "    filename2 = \"Train_Val_Loss_CNN3DA\"\n",
    "    plt.savefig(filename2 + '_plot.png')\n",
    "    plt.close()"
   ]
  },
  {
   "cell_type": "code",
   "execution_count": 10,
   "id": "1c1508f2",
   "metadata": {},
   "outputs": [],
   "source": [
    "# On créer une fonction qui regroupe les précédente et qui permet de lancer toutes les opérations.\n",
    "def launch_learning(): \n",
    "    \n",
    "    # On définit le modèle\n",
    "    model = basic_cnnx3()\n",
    "    \n",
    "    # On fit le modèle sur les données d'apprentissages et on donne les données de validation\n",
    "    # history contient alors les valeurs de loss et d'accuracy\n",
    "    # Le paramètre verbose permet d'afficher le temps passé par epoch, et l'accuracy et la loss\n",
    "    history = model.fit(train_set, \n",
    "                       validation_data=validation_set, \n",
    "                       epochs=20, \n",
    "                       verbose=1)\n",
    "    \n",
    "    # On évalue le modèle sur le jeux de données test\n",
    "    # Par défaut le paramètre setps est None. L'évaluation prendra en compte tous les batch avant de s'arrêter.\n",
    "    evaluation = model.evaluate(test_set,\n",
    "                                batch_size=64,\n",
    "                                verbose=1)\n",
    "    print(model.metrics_names, evaluation)\n",
    "    \n",
    "    # On enregistre le modèle\n",
    "    filename=\"CNN3_DataAugmented.h5\"\n",
    "    model.save(filename)\n",
    "    \n",
    "    plot_perf(history)\n",
    "    "
   ]
  },
  {
   "cell_type": "code",
   "execution_count": 11,
   "id": "39c19aa4",
   "metadata": {},
   "outputs": [
    {
     "name": "stdout",
     "output_type": "stream",
     "text": [
      "Epoch 1/20\n",
      "313/313 [==============================] - 439s 1s/step - loss: 0.6768 - accuracy: 0.5837 - val_loss: 0.6329 - val_accuracy: 0.6434\n",
      "Epoch 2/20\n",
      "313/313 [==============================] - 449s 1s/step - loss: 0.6309 - accuracy: 0.6424 - val_loss: 0.6055 - val_accuracy: 0.6663\n",
      "Epoch 3/20\n",
      "313/313 [==============================] - 457s 1s/step - loss: 0.5966 - accuracy: 0.6807 - val_loss: 0.5663 - val_accuracy: 0.6987\n",
      "Epoch 4/20\n",
      "313/313 [==============================] - 459s 1s/step - loss: 0.5794 - accuracy: 0.6938 - val_loss: 0.5205 - val_accuracy: 0.7484\n",
      "Epoch 5/20\n",
      "313/313 [==============================] - 452s 1s/step - loss: 0.5411 - accuracy: 0.7243 - val_loss: 0.5253 - val_accuracy: 0.7300\n",
      "Epoch 6/20\n",
      "313/313 [==============================] - 452s 1s/step - loss: 0.5255 - accuracy: 0.7355 - val_loss: 0.4725 - val_accuracy: 0.7760\n",
      "Epoch 7/20\n",
      "313/313 [==============================] - 452s 1s/step - loss: 0.5065 - accuracy: 0.7522 - val_loss: 0.4695 - val_accuracy: 0.7720\n",
      "Epoch 8/20\n",
      "313/313 [==============================] - 456s 1s/step - loss: 0.4923 - accuracy: 0.7635 - val_loss: 0.4732 - val_accuracy: 0.7660\n",
      "Epoch 9/20\n",
      "313/313 [==============================] - 459s 1s/step - loss: 0.4850 - accuracy: 0.7665 - val_loss: 0.4564 - val_accuracy: 0.7768\n",
      "Epoch 10/20\n",
      "313/313 [==============================] - 460s 1s/step - loss: 0.4760 - accuracy: 0.7713 - val_loss: 0.4355 - val_accuracy: 0.7925\n",
      "Epoch 11/20\n",
      "313/313 [==============================] - 457s 1s/step - loss: 0.4635 - accuracy: 0.7814 - val_loss: 0.4578 - val_accuracy: 0.7909\n",
      "Epoch 12/20\n",
      "313/313 [==============================] - 459s 1s/step - loss: 0.4514 - accuracy: 0.7889 - val_loss: 0.4128 - val_accuracy: 0.8053\n",
      "Epoch 13/20\n",
      "313/313 [==============================] - 453s 1s/step - loss: 0.4424 - accuracy: 0.7957 - val_loss: 0.4214 - val_accuracy: 0.7957\n",
      "Epoch 14/20\n",
      "313/313 [==============================] - 454s 1s/step - loss: 0.4333 - accuracy: 0.7993 - val_loss: 0.3998 - val_accuracy: 0.8217\n",
      "Epoch 15/20\n",
      "313/313 [==============================] - 454s 1s/step - loss: 0.4263 - accuracy: 0.8037 - val_loss: 0.4097 - val_accuracy: 0.8101\n",
      "Epoch 16/20\n",
      "313/313 [==============================] - 454s 1s/step - loss: 0.4247 - accuracy: 0.8044 - val_loss: 0.4122 - val_accuracy: 0.8113\n",
      "Epoch 17/20\n",
      "313/313 [==============================] - 456s 1s/step - loss: 0.4159 - accuracy: 0.8093 - val_loss: 0.4046 - val_accuracy: 0.8129\n",
      "Epoch 18/20\n",
      "313/313 [==============================] - 452s 1s/step - loss: 0.4070 - accuracy: 0.8136 - val_loss: 0.3847 - val_accuracy: 0.8285\n",
      "Epoch 19/20\n",
      "313/313 [==============================] - 454s 1s/step - loss: 0.4026 - accuracy: 0.8163 - val_loss: 0.3904 - val_accuracy: 0.8205\n",
      "Epoch 20/20\n",
      "313/313 [==============================] - 452s 1s/step - loss: 0.4001 - accuracy: 0.8178 - val_loss: 0.3959 - val_accuracy: 0.8133\n",
      "39/39 [==============================] - 14s 353ms/step - loss: 0.4444 - accuracy: 0.8005\n",
      "['loss', 'accuracy'] [0.444374680519104, 0.8004807829856873]\n"
     ]
    }
   ],
   "source": [
    "launch_learning()"
   ]
  },
  {
   "cell_type": "code",
   "execution_count": null,
   "id": "634b42c7",
   "metadata": {},
   "outputs": [],
   "source": []
  }
 ],
 "metadata": {
  "kernelspec": {
   "display_name": "Python 3 (ipykernel)",
   "language": "python",
   "name": "python3"
  },
  "language_info": {
   "codemirror_mode": {
    "name": "ipython",
    "version": 3
   },
   "file_extension": ".py",
   "mimetype": "text/x-python",
   "name": "python",
   "nbconvert_exporter": "python",
   "pygments_lexer": "ipython3",
   "version": "3.9.12"
  }
 },
 "nbformat": 4,
 "nbformat_minor": 5
}
