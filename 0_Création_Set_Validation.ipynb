{
 "cells": [
  {
   "cell_type": "code",
   "execution_count": 1,
   "id": "5869c543",
   "metadata": {},
   "outputs": [
    {
     "name": "stdout",
     "output_type": "stream",
     "text": [
      "Nombre d'images d'entrainement de chats: 11235\n",
      "Nombre d'images d'entrainement de chiens: 11233\n",
      "Nombre d'images test de chats : 1248\n",
      "Nombre d'images test de chiens : 1248\n"
     ]
    }
   ],
   "source": [
    "# La fonction os.listdir() prend en argument le chemin du dossier \n",
    "# et retourne une liste contenant le nom des fichier et répertoire présent dans le dossier\n",
    "\n",
    "import os \n",
    "\n",
    "cat_list = os.listdir('clean_dataset/train/cat')\n",
    "dog_list = os.listdir('clean_dataset/train/dog')\n",
    "print(\"Nombre d'images d'entrainement de chats: \" + str(len(cat_list)))\n",
    "print(\"Nombre d'images d'entrainement de chiens: \" + str(len(dog_list)))\n",
    "\n",
    "test_set_cat = os.listdir('clean_dataset/test/cat')\n",
    "test_set_dog = os.listdir('clean_dataset/test/dog')\n",
    "print(\"Nombre d'images test de chats : \" + str(len(test_set_cat)))\n",
    "print(\"Nombre d'images test de chiens : \" + str(len(test_set_dog)))"
   ]
  },
  {
   "cell_type": "code",
   "execution_count": 2,
   "id": "af108e6c",
   "metadata": {},
   "outputs": [],
   "source": [
    "# Etant donné que le jeu de données test est déjà constitué il nous reste à choisir aléatoirement 1248 images \n",
    "# parmi les 11235 images du jeu de données d'entrainement de chats et 1248 images parmi les 11233 images de chiens\n",
    "# pour constituer le jeu de données de validation. \n",
    "# On retire ensuite ces mêmes images du la liste cat_list ou dog_list et on constitue le jeu de donnée d'entrainement. \n",
    "\n",
    "\n",
    "import random \n",
    "\n",
    "validation_set_cat = random.sample(cat_list, 1248)\n",
    "validation_set_dog = random.sample(dog_list, 1248)\n",
    "\n",
    "train_set_cat = [x for x in cat_list if x not in validation_set_cat]\n",
    "train_set_dog = [x for x in dog_list if x not in validation_set_dog]"
   ]
  },
  {
   "cell_type": "code",
   "execution_count": 3,
   "id": "dd741a47",
   "metadata": {},
   "outputs": [
    {
     "name": "stdout",
     "output_type": "stream",
     "text": [
      "Taille du jeu d'entrainement des images de chats: 9987\n",
      "Taille du jeu de validation des images de chats : 1248\n",
      "Taille du jeu de test des images de chats : 1248\n"
     ]
    }
   ],
   "source": [
    "# Finalement on a le jeu de donnée avec l'échantillonnage suivant : \n",
    "print(\"Taille du jeu d'entrainement des images de chats: \" + str(len(train_set_cat)))\n",
    "print(\"Taille du jeu de validation des images de chats : \" + str(len(validation_set_cat)))\n",
    "print(\"Taille du jeu de test des images de chats : \" + str(len(test_set_cat)))"
   ]
  },
  {
   "cell_type": "code",
   "execution_count": 4,
   "id": "7139c080",
   "metadata": {},
   "outputs": [
    {
     "name": "stdout",
     "output_type": "stream",
     "text": [
      "Taille du jeu d'entrainement des images de chiens: 9985\n",
      "Taille du jeu de validation des images de chiens : 1248\n",
      "Taille du jeu de test des images de chiens : 1248\n"
     ]
    }
   ],
   "source": [
    "# Finalement on a le jeu de donnée avec l'échantillonnage suivant : \n",
    "print(\"Taille du jeu d'entrainement des images de chiens: \" + str(len(train_set_dog)))\n",
    "print(\"Taille du jeu de validation des images de chiens : \" + str(len(validation_set_dog)))\n",
    "print(\"Taille du jeu de test des images de chiens : \" + str(len(test_set_dog)))"
   ]
  },
  {
   "cell_type": "code",
   "execution_count": 5,
   "id": "7d5bc6ae",
   "metadata": {},
   "outputs": [],
   "source": [
    "# Actuellement on a donc 3 listes avec la bonne répartitions mais ces listes ne contiennent que les nom des fichiers.\n",
    "# Il conviendra donc de créer le dossier de validation et de déplacer les fichier sélectionner dans le dossier\n",
    "# Etape de création du dossier de validation \n",
    "import os \n",
    "import shutil \n",
    "\n",
    "try: \n",
    "    source_folder_cat = \"clean_dataset/train/cat\"\n",
    "    destination_folder_cat = \"clean_dataset/validation/cat\"\n",
    "    os.makedirs(destination_folder_cat)\n",
    "except FileExistsError: \n",
    "    print(\"Dossier \", destination_folder_cat, \"existe déjà.\")"
   ]
  },
  {
   "cell_type": "code",
   "execution_count": 6,
   "id": "3a66e626",
   "metadata": {},
   "outputs": [],
   "source": [
    "try: \n",
    "    source_folder_dog = \"clean_dataset/train/dog\"\n",
    "    destination_folder_dog = \"clean_dataset/validation/dog\"\n",
    "    os.makedirs(destination_folder_dog)\n",
    "except FileExistsError: \n",
    "    print(\"Dossier \", destination_folder_dog, \"existe déjà.\")"
   ]
  },
  {
   "cell_type": "code",
   "execution_count": 7,
   "id": "dc5b57c4",
   "metadata": {},
   "outputs": [],
   "source": [
    "# Etape de déplacement des fichiers \n",
    "\n",
    "source_folder_cat =  \"clean_dataset/train/cat/\"\n",
    "destination_folder_cat = \"clean_dataset/validation/cat/\"\n",
    "\n",
    "# fetch all files\n",
    "for file_name in os.listdir(source_folder_cat):\n",
    "    ## construct full file path\n",
    "    source_cat = source_folder_cat + file_name\n",
    "    destination_cat = destination_folder_cat + file_name\n",
    "    if file_name in validation_set_cat: \n",
    "        shutil.move(source_cat, destination_cat)"
   ]
  },
  {
   "cell_type": "code",
   "execution_count": 8,
   "id": "990ae213",
   "metadata": {},
   "outputs": [
    {
     "name": "stdout",
     "output_type": "stream",
     "text": [
      "9987 1248 1248\n"
     ]
    }
   ],
   "source": [
    "# On vérifier le bon déplacement des fichiers et la création du dossier \n",
    "X_train_cat = os.listdir('clean_dataset/train/cat')\n",
    "X_val_cat = os.listdir('clean_dataset/validation/cat')\n",
    "X_test_cat = os.listdir('clean_dataset/test/cat')\n",
    "print(len(X_train_cat), len(X_val_cat), len(X_test_cat))"
   ]
  },
  {
   "cell_type": "code",
   "execution_count": 9,
   "id": "a8394b7a",
   "metadata": {},
   "outputs": [],
   "source": [
    "source_folder_dog =  \"clean_dataset/train/dog/\"\n",
    "destination_folder_dog = \"clean_dataset/validation/dog/\"\n",
    "\n",
    "# fetch all files\n",
    "for file_name in os.listdir(source_folder_dog):\n",
    "    ## construct full file path\n",
    "    source_dog = source_folder_dog + file_name\n",
    "    destination_dog = destination_folder_dog + file_name\n",
    "    if file_name in validation_set_dog: \n",
    "        shutil.move(source_dog, destination_dog)"
   ]
  },
  {
   "cell_type": "code",
   "execution_count": 11,
   "id": "5118d630",
   "metadata": {},
   "outputs": [
    {
     "name": "stdout",
     "output_type": "stream",
     "text": [
      "9985 1248 1248\n"
     ]
    }
   ],
   "source": [
    "X_train_dog = os.listdir('clean_dataset/train/dog')\n",
    "X_val_dog = os.listdir('clean_dataset/validation/dog')\n",
    "X_test_dog = os.listdir('clean_dataset/test/dog')\n",
    "print(len(X_train_dog), len(X_val_dog), len(X_test_dog))"
   ]
  },
  {
   "cell_type": "code",
   "execution_count": null,
   "id": "dd17312e",
   "metadata": {},
   "outputs": [],
   "source": []
  }
 ],
 "metadata": {
  "kernelspec": {
   "display_name": "Python 3 (ipykernel)",
   "language": "python",
   "name": "python3"
  },
  "language_info": {
   "codemirror_mode": {
    "name": "ipython",
    "version": 3
   },
   "file_extension": ".py",
   "mimetype": "text/x-python",
   "name": "python",
   "nbconvert_exporter": "python",
   "pygments_lexer": "ipython3",
   "version": "3.9.12"
  }
 },
 "nbformat": 4,
 "nbformat_minor": 5
}
