{
 "cells": [
  {
   "cell_type": "code",
   "execution_count": 1,
   "id": "d4277475",
   "metadata": {},
   "outputs": [],
   "source": [
    "# Import des librairies utiles \n",
    "import os\n",
    "from PIL import Image\n",
    "import matplotlib.pyplot as plt\n",
    "import numpy as np\n",
    "import pandas as pd\n",
    "from sklearn.linear_model import LogisticRegression\n",
    "from sklearn.metrics import confusion_matrix, classification_report, roc_curve, roc_auc_score\n",
    "import seaborn as sns\n",
    "from datetime import datetime as dt\n",
    "import pickle"
   ]
  },
  {
   "cell_type": "code",
   "execution_count": 2,
   "id": "ed7965ab",
   "metadata": {},
   "outputs": [
    {
     "name": "stdout",
     "output_type": "stream",
     "text": [
      "Le nombre d'images d'entrainement de chat est de : 19974\n",
      "Le nombre d'images d'entrainement de chien est de : 19970\n"
     ]
    }
   ],
   "source": [
    "cat_list = os.listdir(\"augmented_dataset/train/cat\")\n",
    "dog_list = os.listdir(\"augmented_dataset/train/dog\")\n",
    "print(\"Le nombre d'images d'entrainement de chat est de : \" + str(len(cat_list)))\n",
    "print(\"Le nombre d'images d'entrainement de chien est de : \" + str(len(dog_list)))"
   ]
  },
  {
   "cell_type": "code",
   "execution_count": 3,
   "id": "9fbe5be6",
   "metadata": {},
   "outputs": [],
   "source": [
    "# Cette fois on essaye de prendre l'intégralité du jeu de données d'entrainement \n",
    "# Cela nous permettra de voir si l'augmentation des jeu de données d'entrainement améliore les performances ou pas.\n",
    "# Actuellement nous avons deux liste séparées que nous devons réunir en une unique liste de données d'entrainement. \n",
    "# On utilise la méthode extend() qui concatènera les deux liste à la suite \n",
    "# On utilisera donc np.random.shuffle() pour randomiser le jeu de données d'entrainement. \n",
    "train_list = []\n",
    "train_list.extend(cat_list)\n",
    "train_list.extend(dog_list)\n",
    "np.random.shuffle(train_list)"
   ]
  },
  {
   "cell_type": "code",
   "execution_count": 4,
   "id": "456d9566",
   "metadata": {},
   "outputs": [
    {
     "data": {
      "text/plain": [
       "['dog.augmented_image_7977.jpg',\n",
       " 'cat.1212.jpg',\n",
       " 'cat.augmented_image_6184.jpg',\n",
       " 'dog.augmented_image_2265.jpg',\n",
       " 'dog.augmented_image_5052.jpg',\n",
       " 'dog.6320.jpg',\n",
       " 'cat.augmented_image_3598.jpg',\n",
       " 'cat.augmented_image_11691.jpg',\n",
       " 'dog.augmented_image_1423.jpg',\n",
       " 'cat.7832.jpg']"
      ]
     },
     "execution_count": 4,
     "metadata": {},
     "output_type": "execute_result"
    }
   ],
   "source": [
    "# On vérifie la nature de train_list obtenue et on s'assure de la randomisation des données en visualisant les 10 premiers éléments de la liste\n",
    "train_list[:10]"
   ]
  },
  {
   "cell_type": "code",
   "execution_count": 5,
   "id": "ce04b0ee",
   "metadata": {},
   "outputs": [],
   "source": [
    "# On remarque que cette liste contient uniquement le nom du fichier. \n",
    "# Le modèle de régression logistique le n'accepte que des valeurs numériques et non pas des images au format .jpg. \n",
    "# Pour convertir les images au format numérique, il faut considérer 2 éléments qui sont la taille de l'image (hauteur, largeur) et l'encodage de la couleur au format RGB donc 3 canaux. \n",
    "# Or, on a observé durant la phase de nettoyage que les images n'avaient pas de taille standard. \n",
    "# Il est donc nécessaire d'implémenter une étape de redimensionnement des images de sortes qu'elles aient toute une taille standard. \n",
    "# Il est admis que plus une image a une taille réduite plus l'apprentissage est rapide. On décide donc de redimensionner les images au format 100x100x3 \n",
    "# On initialise donc un vecteur qui aura pour dimension (10000, 100*100*3). \n",
    "# En effet, les 10000 images d'entrainements seront assignées à ce vecteur une fois qu'elles auront été redimensionnées. \n",
    "X_train = np.zeros((39944, 100*100*3))"
   ]
  },
  {
   "cell_type": "code",
   "execution_count": 6,
   "id": "e07e15b5",
   "metadata": {},
   "outputs": [],
   "source": [
    "# On doit redimensionner l'ensemble des images d'entrainement à l'aide de la fonction resize() et crop()\n",
    "# La fonction redim prend en paramètre ke chemin de l'image et la taille et renvoie une image redimensionnée depuis le centre avec la taille spécifiée\n",
    "def redim(image_path, size): \n",
    "    img = Image.open(image_path)\n",
    "    img = img.resize((size+1, size+1))\n",
    "    x_center = img.width/2\n",
    "    y_center = img.height/2\n",
    "    size = size/2\n",
    "    redim_img = img.crop((x_center-size, y_center-size, x_center+size, y_center+size))\n",
    "    return redim_img"
   ]
  },
  {
   "cell_type": "code",
   "execution_count": 7,
   "id": "30ae35b2",
   "metadata": {},
   "outputs": [],
   "source": [
    "# On applique la fonction redim() à l'ensemble des images dans train_list\n",
    "# Une fois redimensionnées, on les transforme en vecteur grâce à la fonction np.array()\n",
    "# Puis on remplace le vecteur vide de l'image dans X_train par le vecteur de l'image ainsi prétraitée. \n",
    "for i, image_name in enumerate(train_list): \n",
    "    if image_name.split(\".\")[0] == \"dog\":\n",
    "        path = \"augmented_dataset/train/dog\"\n",
    "    else: \n",
    "        path = \"augmented_dataset/train/cat\"\n",
    "    image_path = f'{path}/{image_name}'\n",
    "    resized_img = redim(image_path, 100)\n",
    "    resized_array_img = np.array(resized_img).reshape(-1)\n",
    "    X_train[i] = resized_array_img"
   ]
  },
  {
   "cell_type": "code",
   "execution_count": 8,
   "id": "8b1af1f8",
   "metadata": {},
   "outputs": [
    {
     "data": {
      "text/plain": [
       "(39944, 30000)"
      ]
     },
     "execution_count": 8,
     "metadata": {},
     "output_type": "execute_result"
    }
   ],
   "source": [
    "# On vérifie les dimensions du vecteur qui devraient être de 10 000 par 30 000\n",
    "X_train.shape"
   ]
  },
  {
   "cell_type": "code",
   "execution_count": 9,
   "id": "e218848a",
   "metadata": {},
   "outputs": [
    {
     "data": {
      "text/plain": [
       "array([0., 0., 0., ..., 0., 0., 0.])"
      ]
     },
     "execution_count": 9,
     "metadata": {},
     "output_type": "execute_result"
    }
   ],
   "source": [
    "# On vérifie que les vecteurs d'images ont bien été remplacé dans le vecteur vide\n",
    "# On observe les valeurs de X_train[0]\n",
    "X_train[0]"
   ]
  },
  {
   "cell_type": "code",
   "execution_count": 10,
   "id": "583f7a1c",
   "metadata": {},
   "outputs": [],
   "source": [
    "# On normalize les images. Cette étape consiste à diviser par 255 l'ensemble du vecteur. \n",
    "# Ainsi, on on obtient des vecteurs avec des valeurs de pixels par image comprise entre 0 et 255. \n",
    "# Cette étape permet notamment de réduire la durée d'apprentissage tout en maintenant le rapport entre les différentes valeurs de pixels\n",
    "X_train = X_train/255"
   ]
  },
  {
   "cell_type": "code",
   "execution_count": 11,
   "id": "fd949931",
   "metadata": {},
   "outputs": [],
   "source": [
    "# Nos données d'entrainement sont maintenant prête. \n",
    "# Cependant, nous sommes dans un cas d'apprentissage supervisé, il nous faut donc récolter les labels de chaque image présente dans X_train\n",
    "# Pour cela on doit passer d'une liste de nom de fichier à une liste de label. \n",
    "# Nos images contiennent dans leur nom de fichier le label. \n",
    "# On utilise donc la méthode split() et la méthode de list comprehension en Python \n",
    "# On rappelle que la catégorie chat = 0 et la catégorie chien = 1 \n",
    "Y_train = np.array([0 if name.split(\".\")[0]==\"cat\" else 1 for name in train_list])"
   ]
  },
  {
   "cell_type": "code",
   "execution_count": 12,
   "id": "ba988918",
   "metadata": {},
   "outputs": [
    {
     "data": {
      "text/plain": [
       "(39944,)"
      ]
     },
     "execution_count": 12,
     "metadata": {},
     "output_type": "execute_result"
    }
   ],
   "source": [
    "# On vérifie que Y_train contient bien autant de label que nous avons d'images d'entrainement soit : 19 972\n",
    "Y_train.shape"
   ]
  },
  {
   "cell_type": "code",
   "execution_count": 13,
   "id": "cf08c00f",
   "metadata": {},
   "outputs": [],
   "source": [
    "# À présent nos images d'entrainement ont été converties en vecteur de pixels, les valeurs des pixels ont été normalisées\n",
    "# et les labels ont été récupérés : notre jeu d'entrainement est prêt pour alimenter le modèle\n",
    "model = LogisticRegression(max_iter=1000, solver = 'liblinear', penalty='l2', verbose=1)"
   ]
  },
  {
   "cell_type": "code",
   "execution_count": 14,
   "id": "c334c0f7",
   "metadata": {},
   "outputs": [
    {
     "name": "stdout",
     "output_type": "stream",
     "text": [
      "[LibLinear]"
     ]
    }
   ],
   "source": [
    "# On peut mettre un timer pour avoir une estimation du temps de l'apprentissage \n",
    "start = dt.now()\n",
    "model.fit(X_train, Y_train)\n",
    "running_secs = (dt.now()-start).seconds"
   ]
  },
  {
   "cell_type": "code",
   "execution_count": 15,
   "id": "be7c2a6e",
   "metadata": {},
   "outputs": [
    {
     "data": {
      "text/plain": [
       "11481"
      ]
     },
     "execution_count": 15,
     "metadata": {},
     "output_type": "execute_result"
    }
   ],
   "source": [
    "running_secs"
   ]
  },
  {
   "cell_type": "code",
   "execution_count": 16,
   "id": "239d7471",
   "metadata": {},
   "outputs": [],
   "source": [
    "# On sauvegarde le modèle à l'aide de pickle \n",
    "filename = \"Log_Reg_DataAugmented.sav\"\n",
    "pickle.dump(model, open(filename, 'wb'))"
   ]
  },
  {
   "cell_type": "code",
   "execution_count": 17,
   "id": "5dad77cd",
   "metadata": {},
   "outputs": [
    {
     "data": {
      "text/plain": [
       "array([[18007,  2018],\n",
       "       [ 1967, 17952]], dtype=int64)"
      ]
     },
     "execution_count": 17,
     "metadata": {},
     "output_type": "execute_result"
    }
   ],
   "source": [
    "# On évalue les performances du modèle sur le jeu de données d'entrainement \n",
    "train_pred = model.predict(X_train)\n",
    "cm = confusion_matrix(train_pred, Y_train)\n",
    "cm"
   ]
  },
  {
   "cell_type": "code",
   "execution_count": 18,
   "id": "a420249e",
   "metadata": {},
   "outputs": [
    {
     "data": {
      "text/plain": [
       "<AxesSubplot:>"
      ]
     },
     "execution_count": 18,
     "metadata": {},
     "output_type": "execute_result"
    },
    {
     "data": {
      "image/png": "[encoded data removed]",
      "text/plain": [
       "<Figure size 432x288 with 2 Axes>"
      ]
     },
     "metadata": {
      "needs_background": "light"
     },
     "output_type": "display_data"
    }
   ],
   "source": [
    "# On plot la matrice de confusion \n",
    "sns.heatmap(cm, annot=True)"
   ]
  },
  {
   "cell_type": "code",
   "execution_count": 19,
   "id": "ff7cee03",
   "metadata": {},
   "outputs": [
    {
     "name": "stdout",
     "output_type": "stream",
     "text": [
      "Le nombre d'images de validation de chat est de : 1248\n",
      "Le nombre d'images de validation de chien est de : 1248\n"
     ]
    }
   ],
   "source": [
    "# On doit maintenant évaluer le modèle sur le set de validation. \n",
    "# Etant donné qu'on a toutes les images d'entrainement, on validera sur toutes les données de validation\n",
    "# On aura donc 1000 images de chat et 1000 images de chien à classifier\n",
    "val_list_dog = os.listdir(\"augmented_dataset/validation/dog\")\n",
    "val_list_cat = os.listdir(\"augmented_dataset/validation/cat\")\n",
    "print(\"Le nombre d'images de validation de chat est de : \" + str(len(val_list_cat)))\n",
    "print(\"Le nombre d'images de validation de chien est de : \" + str(len(val_list_dog)))"
   ]
  },
  {
   "cell_type": "code",
   "execution_count": 20,
   "id": "0652a665",
   "metadata": {},
   "outputs": [],
   "source": [
    "# On récupère l'ensemble des donnéees de validation \n",
    "val_list = []\n",
    "val_list.extend(val_list_dog)\n",
    "val_list.extend(val_list_cat)"
   ]
  },
  {
   "cell_type": "code",
   "execution_count": 21,
   "id": "dfcde1d5",
   "metadata": {},
   "outputs": [
    {
     "data": {
      "text/plain": [
       "2496"
      ]
     },
     "execution_count": 21,
     "metadata": {},
     "output_type": "execute_result"
    }
   ],
   "source": [
    "# On vérifie que val_list contiennent bien 2000 images \n",
    "len(val_list)"
   ]
  },
  {
   "cell_type": "code",
   "execution_count": 22,
   "id": "d4976ff9",
   "metadata": {},
   "outputs": [],
   "source": [
    "# On recréer la matrice des images avec les données de validation \n",
    "X_val = np.zeros((2496, 100*100*3))"
   ]
  },
  {
   "cell_type": "code",
   "execution_count": 23,
   "id": "1ade2318",
   "metadata": {},
   "outputs": [],
   "source": [
    "for i, image_name in enumerate(val_list):\n",
    "    if image_name.split(\".\")[0] == \"dog\":\n",
    "        path =  \"augmented_dataset/validation/dog\"\n",
    "    else:\n",
    "        path =  \"augmented_dataset/validation/cat\"\n",
    "    image_path = f'{path}/{image_name}'\n",
    "    crp_img = redim(image_path,100)\n",
    "    crp_arr = np.array(crp_img).reshape(-1)\n",
    "    X_val[i] = crp_arr"
   ]
  },
  {
   "cell_type": "code",
   "execution_count": 24,
   "id": "ee33df6f",
   "metadata": {},
   "outputs": [],
   "source": [
    "# On normalize les valeurs des pixels \n",
    "X_val = X_val/255"
   ]
  },
  {
   "cell_type": "code",
   "execution_count": 25,
   "id": "f3089c4f",
   "metadata": {},
   "outputs": [],
   "source": [
    "# On récupère les lables des images de validation \n",
    "val_labels = np.array([0 if name.split(\".\")[0]==\"cat\" else 1 for name in val_list])"
   ]
  },
  {
   "cell_type": "code",
   "execution_count": 26,
   "id": "2fee562f",
   "metadata": {},
   "outputs": [
    {
     "data": {
      "text/plain": [
       "array([[748, 572],\n",
       "       [500, 676]], dtype=int64)"
      ]
     },
     "execution_count": 26,
     "metadata": {},
     "output_type": "execute_result"
    }
   ],
   "source": [
    "# On lance les prédiction sur le jeu de validation et on calcule la matrice de confusion\n",
    "val_pred = model.predict(X_val)\n",
    "cm_val = confusion_matrix(val_pred, val_labels)\n",
    "cm_val "
   ]
  },
  {
   "cell_type": "code",
   "execution_count": 27,
   "id": "a8981652",
   "metadata": {},
   "outputs": [
    {
     "data": {
      "text/plain": [
       "<AxesSubplot:>"
      ]
     },
     "execution_count": 27,
     "metadata": {},
     "output_type": "execute_result"
    },
    {
     "data": {
      "image/png": "[encoded data removed]",
      "text/plain": [
       "<Figure size 432x288 with 2 Axes>"
      ]
     },
     "metadata": {
      "needs_background": "light"
     },
     "output_type": "display_data"
    }
   ],
   "source": [
    "# On plot la matrice de confusion sur les données de validation \n",
    "sns.heatmap(cm_val, annot=True)"
   ]
  },
  {
   "cell_type": "code",
   "execution_count": 28,
   "id": "cf86543f",
   "metadata": {},
   "outputs": [],
   "source": [
    "# En complément de la matrice de confusion on peut analyser la précision, le recall et le f1-score. \n",
    "# L'ensemble de ces métriques peuvent être obtenues avec la méthode classification_report()\n",
    "# On enregistre le rapport dans un dataframe qu'on peut exposert au format csv \n",
    "report = classification_report(val_labels, val_pred, output_dict=True)"
   ]
  },
  {
   "cell_type": "code",
   "execution_count": 29,
   "id": "f8754a17",
   "metadata": {},
   "outputs": [],
   "source": [
    "df = pd.DataFrame(report).transpose()"
   ]
  },
  {
   "cell_type": "code",
   "execution_count": 30,
   "id": "3a62c219",
   "metadata": {},
   "outputs": [
    {
     "data": {
      "text/html": [
       "<div>\n",
       "<style scoped>\n",
       "    .dataframe tbody tr th:only-of-type {\n",
       "        vertical-align: middle;\n",
       "    }\n",
       "\n",
       "    .dataframe tbody tr th {\n",
       "        vertical-align: top;\n",
       "    }\n",
       "\n",
       "    .dataframe thead th {\n",
       "        text-align: right;\n",
       "    }\n",
       "</style>\n",
       "<table border=\"1\" class=\"dataframe\">\n",
       "  <thead>\n",
       "    <tr style=\"text-align: right;\">\n",
       "      <th></th>\n",
       "      <th>precision</th>\n",
       "      <th>recall</th>\n",
       "      <th>f1-score</th>\n",
       "      <th>support</th>\n",
       "    </tr>\n",
       "  </thead>\n",
       "  <tbody>\n",
       "    <tr>\n",
       "      <th>0</th>\n",
       "      <td>0.566667</td>\n",
       "      <td>0.599359</td>\n",
       "      <td>0.582555</td>\n",
       "      <td>1248.000000</td>\n",
       "    </tr>\n",
       "    <tr>\n",
       "      <th>1</th>\n",
       "      <td>0.574830</td>\n",
       "      <td>0.541667</td>\n",
       "      <td>0.557756</td>\n",
       "      <td>1248.000000</td>\n",
       "    </tr>\n",
       "    <tr>\n",
       "      <th>accuracy</th>\n",
       "      <td>0.570513</td>\n",
       "      <td>0.570513</td>\n",
       "      <td>0.570513</td>\n",
       "      <td>0.570513</td>\n",
       "    </tr>\n",
       "    <tr>\n",
       "      <th>macro avg</th>\n",
       "      <td>0.570748</td>\n",
       "      <td>0.570513</td>\n",
       "      <td>0.570155</td>\n",
       "      <td>2496.000000</td>\n",
       "    </tr>\n",
       "    <tr>\n",
       "      <th>weighted avg</th>\n",
       "      <td>0.570748</td>\n",
       "      <td>0.570513</td>\n",
       "      <td>0.570155</td>\n",
       "      <td>2496.000000</td>\n",
       "    </tr>\n",
       "  </tbody>\n",
       "</table>\n",
       "</div>"
      ],
      "text/plain": [
       "              precision    recall  f1-score      support\n",
       "0              0.566667  0.599359  0.582555  1248.000000\n",
       "1              0.574830  0.541667  0.557756  1248.000000\n",
       "accuracy       0.570513  0.570513  0.570513     0.570513\n",
       "macro avg      0.570748  0.570513  0.570155  2496.000000\n",
       "weighted avg   0.570748  0.570513  0.570155  2496.000000"
      ]
     },
     "execution_count": 30,
     "metadata": {},
     "output_type": "execute_result"
    }
   ],
   "source": [
    "df"
   ]
  },
  {
   "cell_type": "code",
   "execution_count": 31,
   "id": "07a9b31d",
   "metadata": {},
   "outputs": [],
   "source": [
    "df.to_csv('classification_report_DataAugmented.csv')"
   ]
  },
  {
   "cell_type": "code",
   "execution_count": 32,
   "id": "f5beac7b",
   "metadata": {},
   "outputs": [],
   "source": [
    "# Interprétation : \n",
    "# Précision : \n",
    "# Parmi les 1000 chats et 1000 chiens que le modèle a prédit seulement 54.3% étaient vraiment des chats et 55.4% étaient vraiment des chien. \n",
    "# Recall : Parmi les 1000 images qui étaient vraiment des chats, le modèle a prédit correctement à 60.2% les chats \n",
    "# Parmi les 1000 images qui étaient vraiment des chiens, le modèle a prédit correctement à 49.4% les chiens.\n",
    "# F1-Score : Cette valeur est assez éloignée de 1 : Le modèle a donc réaliser une prédiction pauvre. "
   ]
  },
  {
   "cell_type": "code",
   "execution_count": 33,
   "id": "6d8e01a3",
   "metadata": {},
   "outputs": [],
   "source": [
    "# Un autre indicateur de performance qu'on peut étudier est la courbe ROC\n",
    "no_learn = [0 for _ in range(len(val_labels))]"
   ]
  },
  {
   "cell_type": "code",
   "execution_count": 34,
   "id": "4e45db76",
   "metadata": {},
   "outputs": [
    {
     "name": "stdout",
     "output_type": "stream",
     "text": [
      "No Skill: ROC AUC=0.500\n",
      "Logistic: ROC AUC=0.600\n"
     ]
    }
   ],
   "source": [
    " # On prédit la probabilité des images de validation \n",
    "learn_probs = model.predict_proba(X_val)\n",
    "\n",
    "# On ne garde que les probabilité de la classe 1 \n",
    "learn_probs = learn_probs[:, 1]\n",
    "\n",
    "# On calcule les score \n",
    "nl_auc = roc_auc_score(val_labels, no_learn)\n",
    "lr_auc = roc_auc_score(val_labels, learn_probs)\n",
    "\n",
    "# Résume les score \n",
    "print(\"No Skill: ROC AUC=%.3f\" % (nl_auc))\n",
    "print(\"Logistic: ROC AUC=%.3f\" % (lr_auc))\n",
    "\n",
    "# Calcule les courbes ROC \n",
    "ns_fpr, ns_tpr, _ = roc_curve(val_labels, no_learn)\n",
    "lr_fpr, lr_tpr, _ = roc_curve(val_labels, learn_probs)\n",
    "\n",
    "plt.plot(ns_fpr, ns_tpr, linestyle='--', label=\"No Skill\")\n",
    "plt.plot(lr_fpr, lr_tpr, marker='.', label='Logistic')\n",
    "plt.xlabel('Taux de faux positifs')\n",
    "plt.ylabel('Taux de vrai positifs')\n",
    "plt.legend()\n",
    "plotfile = 'Courbe_ROC_Reg_Log_DataAugmented'\n",
    "plt.savefig(plotfile + '_plot.png')\n",
    "plt.close()"
   ]
  },
  {
   "cell_type": "code",
   "execution_count": null,
   "id": "c20fb70f",
   "metadata": {},
   "outputs": [],
   "source": []
  },
  {
   "cell_type": "code",
   "execution_count": null,
   "id": "9977bc5c",
   "metadata": {},
   "outputs": [],
   "source": []
  },
  {
   "cell_type": "code",
   "execution_count": null,
   "id": "29094cce",
   "metadata": {},
   "outputs": [],
   "source": []
  },
  {
   "cell_type": "code",
   "execution_count": null,
   "id": "cfb0d132",
   "metadata": {},
   "outputs": [],
   "source": []
  },
  {
   "cell_type": "code",
   "execution_count": null,
   "id": "63350d3b",
   "metadata": {},
   "outputs": [],
   "source": []
  }
 ],
 "metadata": {
  "kernelspec": {
   "display_name": "Python 3 (ipykernel)",
   "language": "python",
   "name": "python3"
  },
  "language_info": {
   "codemirror_mode": {
    "name": "ipython",
    "version": 3
   },
   "file_extension": ".py",
   "mimetype": "text/x-python",
   "name": "python",
   "nbconvert_exporter": "python",
   "pygments_lexer": "ipython3",
   "version": "3.9.12"
  }
 },
 "nbformat": 4,
 "nbformat_minor": 5
}
